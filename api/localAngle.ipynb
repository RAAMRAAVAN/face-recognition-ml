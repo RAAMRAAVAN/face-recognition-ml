{
 "cells": [
  {
   "cell_type": "code",
   "execution_count": 1,
   "metadata": {},
   "outputs": [],
   "source": [
    "import math\n",
    "import numpy as np\n",
    "\n",
    "Sn=np.array([[0.42,0.78,-0.04],[0.40,0.77,-0.04],[0.41, 0.72, -0.04], [0.43, 0.76, -0.04]])\n",
    "# a, c\n",
    "An=[0.42,0.77,-0.05] #B\n"
   ]
  },
  {
   "cell_type": "code",
   "execution_count": 2,
   "metadata": {},
   "outputs": [],
   "source": [
    "def Angle(A,B,C):\n",
    "    BA = np.array([A[0]-B[0], A[1]-B[1], A[2]-B[2]])\n",
    "    modBA= math.sqrt(BA[0]**2+BA[1]**2+BA[2]**2)\n",
    "    BC = np.array([C[0]-B[0], C[1]-B[1], C[2]-B[2]])\n",
    "    modBC= math.sqrt(BC[0]**2+BC[1]**2+BC[2]**2)\n",
    "    BABC= modBA * modBC\n",
    "    dotProduct=BA[0]*BC[0] + BA[1]*BC[1]\n",
    "    x = dotProduct / BABC\n",
    "    angle = math.acos(x)\n",
    "    return(math.degrees(angle))"
   ]
  },
  {
   "cell_type": "code",
   "execution_count": 3,
   "metadata": {},
   "outputs": [],
   "source": [
    "def calc_localAngle(A, S):\n",
    "    # print(A, S)\n",
    "    localAngle = []\n",
    "    for i in range(len(S)-1):\n",
    "        angle = Angle(S[i], A, S[i+1])\n",
    "        if(angle <= 180):\n",
    "            localAngle.append(math.radians(angle))\n",
    "    angle = Angle(S[len(S)-1], A, S[0])\n",
    "    if(angle <= 180):\n",
    "        localAngle.append(math.radians(angle))\n",
    "    # print(\"localAngle\", localAngle)\n",
    "    return(localAngle)"
   ]
  },
  {
   "cell_type": "code",
   "execution_count": 4,
   "metadata": {},
   "outputs": [],
   "source": [
    "# print(\"local angle= \",calc_localAngle(An, Sn))"
   ]
  }
 ],
 "metadata": {
  "kernelspec": {
   "display_name": "Python 3",
   "language": "python",
   "name": "python3"
  },
  "language_info": {
   "codemirror_mode": {
    "name": "ipython",
    "version": 3
   },
   "file_extension": ".py",
   "mimetype": "text/x-python",
   "name": "python",
   "nbconvert_exporter": "python",
   "pygments_lexer": "ipython3",
   "version": "3.8.10"
  },
  "orig_nbformat": 4
 },
 "nbformat": 4,
 "nbformat_minor": 2
}
