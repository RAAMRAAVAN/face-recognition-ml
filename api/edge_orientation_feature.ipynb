{
 "cells": [
  {
   "cell_type": "code",
   "execution_count": 1,
   "metadata": {},
   "outputs": [
    {
     "name": "stdout",
     "output_type": "stream",
     "text": [
      "54.735610317245346\n"
     ]
    }
   ],
   "source": [
    "import math\n",
    "\n",
    "def get_edge_orientation(edge):\n",
    "    reference_axis = (1, 0, 0)\n",
    "    # Calculate the direction vector of the edge\n",
    "    direction_vector = [edge[1][0] - edge[0][0], edge[1][1] - edge[0][1], edge[1][2] - edge[0][2]]\n",
    "    \n",
    "    # Calculate the dot product between the direction vector and the reference axis\n",
    "    dot_product = direction_vector[0] * reference_axis[0] + direction_vector[1] * reference_axis[1] + direction_vector[2] * reference_axis[2]\n",
    "    \n",
    "    # Calculate the magnitude of the direction vector\n",
    "    direction_magnitude = math.sqrt(direction_vector[0]**2 + direction_vector[1]**2 + direction_vector[2]**2)\n",
    "    \n",
    "    # Calculate the angle between the direction vector and the reference axis\n",
    "    angle = math.acos(dot_product / (direction_magnitude * math.sqrt(reference_axis[0]**2 + reference_axis[1]**2 + reference_axis[2]**2)))\n",
    "    \n",
    "    # Return the angle in degrees\n",
    "    return math.degrees(angle)\n",
    "\n",
    "# edge = ((0, 0, 0), (1, 1, 1))\n",
    "# angle = get_edge_orientation(edge)\n",
    "# print(angle)"
   ]
  },
  {
   "cell_type": "code",
   "execution_count": null,
   "metadata": {},
   "outputs": [],
   "source": [
    "def get_edge_orientation_2(edge):\n",
    "    reference_axis = (1, 0)\n",
    "    # Calculate the direction vector of the edge\n",
    "    direction_vector = [edge[1][0] - edge[0][0], edge[1][1] - edge[0][1]]\n",
    "    \n",
    "    # Calculate the dot product between the direction vector and the reference axis\n",
    "    dot_product = direction_vector[0] * reference_axis[0] + direction_vector[1] * reference_axis[1]\n",
    "    \n",
    "    # Calculate the magnitude of the direction vector\n",
    "    direction_magnitude = math.sqrt(direction_vector[0]**2 + direction_vector[1]**2)\n",
    "    \n",
    "    # Calculate the angle between the direction vector and the reference axis\n",
    "    angle = math.acos(dot_product / (direction_magnitude * math.sqrt(reference_axis[0]**2 + reference_axis[1]**2)))\n",
    "    \n",
    "    # Return the angle in degrees\n",
    "    return math.degrees(angle)"
   ]
  },
  {
   "cell_type": "code",
   "execution_count": null,
   "metadata": {},
   "outputs": [],
   "source": [
    "def calc_edge_orientation(A, S):\n",
    "    # print(A, S)\n",
    "    edge_orientation = []\n",
    "    temp = []\n",
    "    for i in range(len(S)):\n",
    "        temp.append(S[i])\n",
    "        temp.append(A)\n",
    "        edge_orientation.append(get_edge_orientation(temp))\n",
    "    return(edge_orientation)"
   ]
  }
 ],
 "metadata": {
  "kernelspec": {
   "display_name": "Python 3",
   "language": "python",
   "name": "python3"
  },
  "language_info": {
   "codemirror_mode": {
    "name": "ipython",
    "version": 3
   },
   "file_extension": ".py",
   "mimetype": "text/x-python",
   "name": "python",
   "nbconvert_exporter": "python",
   "pygments_lexer": "ipython3",
   "version": "3.8.10"
  },
  "orig_nbformat": 4
 },
 "nbformat": 4,
 "nbformat_minor": 2
}
